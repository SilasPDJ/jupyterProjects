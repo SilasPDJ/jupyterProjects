{
 "cells": [
  {
   "cell_type": "code",
   "execution_count": 2,
   "id": "1224a751",
   "metadata": {},
   "outputs": [
    {
     "data": {
      "text/plain": [
       "'hello'"
      ]
     },
     "execution_count": 2,
     "metadata": {},
     "output_type": "execute_result"
    }
   ],
   "source": [
    "\"hello\""
   ]
  },
  {
   "cell_type": "code",
   "execution_count": null,
   "id": "538108b3",
   "metadata": {},
   "outputs": [],
   "source": [
    "import spacy"
   ]
  },
  {
   "cell_type": "code",
   "execution_count": 7,
   "id": "b8d5b01c",
   "metadata": {},
   "outputs": [],
   "source": [
    "import pyautogui as p"
   ]
  },
  {
   "cell_type": "code",
   "execution_count": 10,
   "id": "9f4d6935",
   "metadata": {},
   "outputs": [
    {
     "ename": "ModuleNotFoundError",
     "evalue": "No module named 'prime_nums'",
     "output_type": "error",
     "traceback": [
      "\u001b[1;31m---------------------------------------------------------------------------\u001b[0m",
      "\u001b[1;31mModuleNotFoundError\u001b[0m                       Traceback (most recent call last)",
      "Input \u001b[1;32mIn [10]\u001b[0m, in \u001b[0;36m<cell line: 1>\u001b[1;34m()\u001b[0m\n\u001b[1;32m----> 1\u001b[0m \u001b[38;5;28;01mfrom\u001b[39;00m \u001b[38;5;21;01mprime_nums\u001b[39;00m \u001b[38;5;28;01mimport\u001b[39;00m get_prime_nums, is_prime\n",
      "\u001b[1;31mModuleNotFoundError\u001b[0m: No module named 'prime_nums'"
     ]
    }
   ],
   "source": [
    "from prime_nums import get_prime_nums, is_prime"
   ]
  },
  {
   "cell_type": "code",
   "execution_count": null,
   "id": "58452bc5",
   "metadata": {},
   "outputs": [
    {
     "name": "stdout",
     "output_type": "stream",
     "text": [
      "Collecting prime-nums\n",
      "  Downloading prime_nums-2.0.1-py3-none-any.whl (2.1 kB)\n",
      "Installing collected packages: prime-nums\n",
      "Successfully installed prime-nums-2.0.1\n",
      "Note: you may need to restart the kernel to use updated packages.\n"
     ]
    },
    {
     "name": "stderr",
     "output_type": "stream",
     "text": [
      "WARNING: You are using pip version 22.0.4; however, version 22.1 is available.\n",
      "You should consider upgrading via the 'C:\\Users\\sbferreira\\Desktop\\H\\cmd\\Scripts\\python.exe -m pip install --upgrade pip' command.\n"
     ]
    }
   ],
   "source": [
    "!pip install prime-nums"
   ]
  },
  {
   "cell_type": "code",
   "execution_count": null,
   "id": "54130219",
   "metadata": {},
   "outputs": [],
   "source": []
  },
  {
   "cell_type": "code",
   "execution_count": 15,
   "id": "f8c0a91c",
   "metadata": {},
   "outputs": [],
   "source": [
    "from prime_nums import get_prime_nums, is_prime\n"
   ]
  },
  {
   "cell_type": "code",
   "execution_count": 16,
   "id": "f8dc158b",
   "metadata": {},
   "outputs": [
    {
     "data": {
      "text/plain": [
       "[2, 3, 5, 7, 11, 13, 17, 19, 23, 29]"
      ]
     },
     "execution_count": 16,
     "metadata": {},
     "output_type": "execute_result"
    }
   ],
   "source": [
    "get_prime_nums(10)"
   ]
  },
  {
   "cell_type": "code",
   "execution_count": 17,
   "id": "8d08a22d",
   "metadata": {},
   "outputs": [
    {
     "ename": "TypeError",
     "evalue": "is_prime() takes 1 positional argument but 2 were given",
     "output_type": "error",
     "traceback": [
      "\u001b[1;31m---------------------------------------------------------------------------\u001b[0m",
      "\u001b[1;31mTypeError\u001b[0m                                 Traceback (most recent call last)",
      "Input \u001b[1;32mIn [17]\u001b[0m, in \u001b[0;36m<cell line: 1>\u001b[1;34m()\u001b[0m\n\u001b[1;32m----> 1\u001b[0m \u001b[43mis_prime\u001b[49m\u001b[43m(\u001b[49m\u001b[38;5;241;43m10\u001b[39;49m\u001b[43m,\u001b[49m\u001b[43m \u001b[49m\u001b[38;5;241;43m20\u001b[39;49m\u001b[43m)\u001b[49m\n",
      "\u001b[1;31mTypeError\u001b[0m: is_prime() takes 1 positional argument but 2 were given"
     ]
    }
   ],
   "source": [
    "is_prime(10, 20)"
   ]
  },
  {
   "cell_type": "code",
   "execution_count": 19,
   "id": "482b6f59",
   "metadata": {},
   "outputs": [
    {
     "data": {
      "text/plain": [
       "True"
      ]
     },
     "execution_count": 19,
     "metadata": {},
     "output_type": "execute_result"
    }
   ],
   "source": [
    "is_prime(7)"
   ]
  },
  {
   "cell_type": "code",
   "execution_count": 27,
   "id": "3350c100",
   "metadata": {},
   "outputs": [],
   "source": [
    "def print_primes(arr_primes= get_prime_nums(10)):\n",
    "    for i in arr_primes: \n",
    "        print(f\"{i}: {is_prime(i)}\")"
   ]
  },
  {
   "cell_type": "code",
   "execution_count": 39,
   "id": "b8c6437a",
   "metadata": {},
   "outputs": [
    {
     "name": "stdout",
     "output_type": "stream",
     "text": [
      "2: True\n",
      "3: True\n",
      "5: True\n",
      "7: True\n",
      "11: True\n",
      "13: True\n",
      "17: True\n",
      "19: True\n",
      "23: True\n",
      "29: True\n",
      "31: True\n",
      "37: True\n",
      "41: True\n",
      "43: True\n",
      "47: True\n",
      "53: True\n",
      "59: True\n",
      "61: True\n",
      "67: True\n",
      "71: True\n",
      "73: True\n",
      "79: True\n",
      "83: True\n",
      "89: True\n",
      "97: True\n",
      "101: True\n",
      "103: True\n",
      "107: True\n",
      "109: True\n",
      "113: True\n",
      "127: True\n",
      "131: True\n",
      "137: True\n",
      "139: True\n",
      "149: True\n",
      "151: True\n",
      "157: True\n",
      "163: True\n",
      "167: True\n",
      "173: True\n",
      "179: True\n",
      "181: True\n",
      "191: True\n",
      "193: True\n",
      "197: True\n",
      "199: True\n",
      "211: True\n",
      "223: True\n",
      "227: True\n",
      "229: True\n",
      "233: True\n",
      "239: True\n",
      "241: True\n",
      "251: True\n",
      "257: True\n",
      "263: True\n",
      "269: True\n",
      "271: True\n",
      "277: True\n",
      "281: True\n",
      "283: True\n",
      "293: True\n",
      "307: True\n",
      "311: True\n",
      "313: True\n",
      "317: True\n",
      "331: True\n",
      "337: True\n",
      "347: True\n",
      "349: True\n",
      "353: True\n",
      "359: True\n",
      "367: True\n",
      "373: True\n",
      "379: True\n",
      "383: True\n",
      "389: True\n",
      "397: True\n",
      "401: True\n",
      "409: True\n",
      "419: True\n",
      "421: True\n",
      "431: True\n",
      "433: True\n",
      "439: True\n",
      "443: True\n",
      "449: True\n",
      "457: True\n",
      "461: True\n",
      "463: True\n",
      "467: True\n",
      "479: True\n",
      "487: True\n",
      "491: True\n",
      "499: True\n",
      "503: True\n",
      "509: True\n",
      "521: True\n",
      "523: True\n",
      "541: True\n",
      "547: True\n",
      "557: True\n",
      "563: True\n",
      "569: True\n",
      "571: True\n",
      "577: True\n",
      "587: True\n",
      "593: True\n",
      "599: True\n",
      "601: True\n",
      "607: True\n",
      "613: True\n",
      "617: True\n",
      "619: True\n",
      "631: True\n",
      "641: True\n",
      "643: True\n",
      "647: True\n",
      "653: True\n",
      "659: True\n",
      "661: True\n",
      "673: True\n",
      "677: True\n",
      "683: True\n",
      "691: True\n",
      "701: True\n",
      "709: True\n",
      "719: True\n",
      "727: True\n",
      "733: True\n",
      "739: True\n",
      "743: True\n",
      "751: True\n",
      "757: True\n",
      "761: True\n",
      "769: True\n",
      "773: True\n",
      "787: True\n",
      "797: True\n",
      "809: True\n",
      "811: True\n",
      "821: True\n",
      "823: True\n",
      "827: True\n",
      "829: True\n",
      "839: True\n",
      "853: True\n",
      "857: True\n",
      "859: True\n",
      "863: True\n",
      "877: True\n",
      "881: True\n",
      "883: True\n",
      "887: True\n",
      "907: True\n",
      "911: True\n",
      "919: True\n",
      "929: True\n",
      "937: True\n",
      "941: True\n",
      "947: True\n",
      "953: True\n",
      "967: True\n",
      "971: True\n",
      "977: True\n",
      "983: True\n",
      "991: True\n",
      "997: True\n",
      "1009: True\n",
      "1013: True\n",
      "1019: True\n",
      "1021: True\n",
      "1031: True\n",
      "1033: True\n",
      "1039: True\n",
      "1049: True\n",
      "1051: True\n",
      "1061: True\n",
      "1063: True\n",
      "1069: True\n",
      "1087: True\n",
      "1091: True\n",
      "1093: True\n",
      "1097: True\n",
      "1103: True\n",
      "1109: True\n",
      "1117: True\n",
      "1123: True\n",
      "1129: True\n",
      "1151: True\n",
      "1153: True\n",
      "1163: True\n",
      "1171: True\n",
      "1181: True\n",
      "1187: True\n",
      "1193: True\n",
      "1201: True\n",
      "1213: True\n",
      "1217: True\n",
      "1223: True\n"
     ]
    }
   ],
   "source": [
    "print_primes(get_prime_nums(200))"
   ]
  },
  {
   "cell_type": "code",
   "execution_count": 40,
   "id": "8d1778ab",
   "metadata": {},
   "outputs": [
    {
     "data": {
      "text/plain": [
       "[2,\n",
       " 3,\n",
       " 5,\n",
       " 7,\n",
       " 11,\n",
       " 13,\n",
       " 17,\n",
       " 19,\n",
       " 23,\n",
       " 29,\n",
       " 31,\n",
       " 37,\n",
       " 41,\n",
       " 43,\n",
       " 47,\n",
       " 53,\n",
       " 59,\n",
       " 61,\n",
       " 67,\n",
       " 71,\n",
       " 73,\n",
       " 79,\n",
       " 83,\n",
       " 89,\n",
       " 97,\n",
       " 101,\n",
       " 103,\n",
       " 107,\n",
       " 109,\n",
       " 113,\n",
       " 127,\n",
       " 131,\n",
       " 137,\n",
       " 139,\n",
       " 149,\n",
       " 151,\n",
       " 157,\n",
       " 163,\n",
       " 167,\n",
       " 173,\n",
       " 179,\n",
       " 181,\n",
       " 191,\n",
       " 193,\n",
       " 197,\n",
       " 199,\n",
       " 211,\n",
       " 223,\n",
       " 227,\n",
       " 229,\n",
       " 233,\n",
       " 239,\n",
       " 241,\n",
       " 251,\n",
       " 257,\n",
       " 263,\n",
       " 269,\n",
       " 271,\n",
       " 277,\n",
       " 281,\n",
       " 283,\n",
       " 293,\n",
       " 307,\n",
       " 311,\n",
       " 313,\n",
       " 317,\n",
       " 331,\n",
       " 337,\n",
       " 347,\n",
       " 349,\n",
       " 353,\n",
       " 359,\n",
       " 367,\n",
       " 373,\n",
       " 379,\n",
       " 383,\n",
       " 389,\n",
       " 397,\n",
       " 401,\n",
       " 409,\n",
       " 419,\n",
       " 421,\n",
       " 431,\n",
       " 433,\n",
       " 439,\n",
       " 443,\n",
       " 449,\n",
       " 457,\n",
       " 461,\n",
       " 463,\n",
       " 467,\n",
       " 479,\n",
       " 487,\n",
       " 491,\n",
       " 499,\n",
       " 503,\n",
       " 509,\n",
       " 521,\n",
       " 523,\n",
       " 541]"
      ]
     },
     "execution_count": 40,
     "metadata": {},
     "output_type": "execute_result"
    }
   ],
   "source": [
    "get_prime_nums(100)"
   ]
  },
  {
   "cell_type": "code",
   "execution_count": null,
   "id": "cac814d8",
   "metadata": {},
   "outputs": [],
   "source": []
  },
  {
   "cell_type": "code",
   "execution_count": null,
   "id": "97a861bc",
   "metadata": {},
   "outputs": [],
   "source": []
  },
  {
   "cell_type": "code",
   "execution_count": null,
   "id": "da9511e6",
   "metadata": {},
   "outputs": [],
   "source": []
  },
  {
   "cell_type": "code",
   "execution_count": null,
   "id": "e46d0be1",
   "metadata": {},
   "outputs": [],
   "source": []
  },
  {
   "cell_type": "code",
   "execution_count": null,
   "id": "97deb9fb",
   "metadata": {},
   "outputs": [],
   "source": []
  },
  {
   "cell_type": "code",
   "execution_count": null,
   "id": "ae9433cb",
   "metadata": {},
   "outputs": [],
   "source": []
  },
  {
   "cell_type": "code",
   "execution_count": null,
   "id": "565c1e00",
   "metadata": {},
   "outputs": [],
   "source": []
  },
  {
   "cell_type": "code",
   "execution_count": null,
   "id": "326813e1",
   "metadata": {},
   "outputs": [],
   "source": []
  },
  {
   "cell_type": "code",
   "execution_count": null,
   "id": "1625b56d",
   "metadata": {},
   "outputs": [],
   "source": []
  },
  {
   "cell_type": "code",
   "execution_count": null,
   "id": "8f890a1b",
   "metadata": {},
   "outputs": [],
   "source": []
  },
  {
   "cell_type": "code",
   "execution_count": null,
   "id": "8d0c1017",
   "metadata": {},
   "outputs": [],
   "source": []
  },
  {
   "cell_type": "code",
   "execution_count": null,
   "id": "742410ef",
   "metadata": {},
   "outputs": [],
   "source": []
  },
  {
   "cell_type": "code",
   "execution_count": null,
   "id": "a8230220",
   "metadata": {},
   "outputs": [],
   "source": []
  },
  {
   "cell_type": "code",
   "execution_count": null,
   "id": "f692ef9e",
   "metadata": {},
   "outputs": [],
   "source": []
  },
  {
   "cell_type": "code",
   "execution_count": null,
   "id": "d49f5ba5",
   "metadata": {},
   "outputs": [],
   "source": []
  },
  {
   "cell_type": "code",
   "execution_count": null,
   "id": "eb6d4004",
   "metadata": {},
   "outputs": [],
   "source": []
  },
  {
   "cell_type": "code",
   "execution_count": null,
   "id": "ecfc1e4a",
   "metadata": {},
   "outputs": [],
   "source": []
  },
  {
   "cell_type": "code",
   "execution_count": null,
   "id": "29fffe7f",
   "metadata": {},
   "outputs": [],
   "source": []
  },
  {
   "cell_type": "code",
   "execution_count": null,
   "id": "cbd1051e",
   "metadata": {},
   "outputs": [],
   "source": []
  }
 ],
 "metadata": {
  "interpreter": {
   "hash": "548766e63502f26c5525893c3d2a42ec774ab3865e5bc7e7c9d9fb669866b4e9"
  },
  "kernelspec": {
   "display_name": "Python 3.10.4 ('cmd': venv)",
   "language": "python",
   "name": "python3"
  },
  "language_info": {
   "codemirror_mode": {
    "name": "ipython",
    "version": 3
   },
   "file_extension": ".py",
   "mimetype": "text/x-python",
   "name": "python",
   "nbconvert_exporter": "python",
   "pygments_lexer": "ipython3",
   "version": "3.10.4"
  }
 },
 "nbformat": 4,
 "nbformat_minor": 5
}
